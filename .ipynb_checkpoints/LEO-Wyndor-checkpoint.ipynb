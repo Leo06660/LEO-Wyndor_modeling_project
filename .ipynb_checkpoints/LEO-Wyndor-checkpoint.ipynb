{
 "cells": [
  {
   "cell_type": "code",
   "execution_count": 1,
   "metadata": {},
   "outputs": [],
   "source": [
    "import pandas as pd\n",
    "import numpy as np\n",
    "import matplotlib.pyplot as plt"
   ]
  },
  {
   "cell_type": "code",
   "execution_count": 2,
   "metadata": {},
   "outputs": [],
   "source": [
    "from sklearn.linear_model import LinearRegression as LR\n",
    "from sklearn.model_selection import train_test_split"
   ]
  },
  {
   "cell_type": "markdown",
   "metadata": {},
   "source": [
    "# Linear Regression"
   ]
  },
  {
   "cell_type": "code",
   "execution_count": 3,
   "metadata": {},
   "outputs": [
    {
     "data": {
      "text/html": [
       "<div>\n",
       "<style scoped>\n",
       "    .dataframe tbody tr th:only-of-type {\n",
       "        vertical-align: middle;\n",
       "    }\n",
       "\n",
       "    .dataframe tbody tr th {\n",
       "        vertical-align: top;\n",
       "    }\n",
       "\n",
       "    .dataframe thead th {\n",
       "        text-align: right;\n",
       "    }\n",
       "</style>\n",
       "<table border=\"1\" class=\"dataframe\">\n",
       "  <thead>\n",
       "    <tr style=\"text-align: right;\">\n",
       "      <th></th>\n",
       "      <th>TV</th>\n",
       "      <th>Radio</th>\n",
       "      <th>Sales</th>\n",
       "    </tr>\n",
       "  </thead>\n",
       "  <tbody>\n",
       "    <tr>\n",
       "      <td>195</td>\n",
       "      <td>38.2</td>\n",
       "      <td>3.7</td>\n",
       "      <td>7.6</td>\n",
       "    </tr>\n",
       "    <tr>\n",
       "      <td>196</td>\n",
       "      <td>94.2</td>\n",
       "      <td>4.9</td>\n",
       "      <td>9.7</td>\n",
       "    </tr>\n",
       "    <tr>\n",
       "      <td>197</td>\n",
       "      <td>177.0</td>\n",
       "      <td>9.3</td>\n",
       "      <td>12.8</td>\n",
       "    </tr>\n",
       "    <tr>\n",
       "      <td>198</td>\n",
       "      <td>283.6</td>\n",
       "      <td>42.0</td>\n",
       "      <td>25.5</td>\n",
       "    </tr>\n",
       "    <tr>\n",
       "      <td>199</td>\n",
       "      <td>232.1</td>\n",
       "      <td>8.6</td>\n",
       "      <td>13.4</td>\n",
       "    </tr>\n",
       "  </tbody>\n",
       "</table>\n",
       "</div>"
      ],
      "text/plain": [
       "        TV  Radio  Sales\n",
       "195   38.2    3.7    7.6\n",
       "196   94.2    4.9    9.7\n",
       "197  177.0    9.3   12.8\n",
       "198  283.6   42.0   25.5\n",
       "199  232.1    8.6   13.4"
      ]
     },
     "execution_count": 3,
     "metadata": {},
     "output_type": "execute_result"
    }
   ],
   "source": [
    "data = pd.read_csv(\"Advertising.csv\")\n",
    "data.tail()"
   ]
  },
  {
   "cell_type": "markdown",
   "metadata": {},
   "source": [
    "### Spilt the data into 2-way (70%, 30%)"
   ]
  },
  {
   "cell_type": "code",
   "execution_count": 4,
   "metadata": {},
   "outputs": [],
   "source": [
    "Y = data.Sales\n",
    "X = data.drop(\"Sales\", axis=1)"
   ]
  },
  {
   "cell_type": "code",
   "execution_count": 5,
   "metadata": {},
   "outputs": [],
   "source": [
    "xtrain, xtest, ytrain, ytest = train_test_split(X, Y, train_size = 0.5)"
   ]
  },
  {
   "cell_type": "code",
   "execution_count": 6,
   "metadata": {},
   "outputs": [
    {
     "data": {
      "text/plain": [
       "LinearRegression(copy_X=True, fit_intercept=True, n_jobs=None, normalize=False)"
      ]
     },
     "execution_count": 6,
     "metadata": {},
     "output_type": "execute_result"
    }
   ],
   "source": [
    "m = LR().fit(xtrain, ytrain)\n",
    "m"
   ]
  },
  {
   "cell_type": "code",
   "execution_count": 7,
   "metadata": {},
   "outputs": [
    {
     "data": {
      "text/plain": [
       "2.981224910668315"
      ]
     },
     "execution_count": 7,
     "metadata": {},
     "output_type": "execute_result"
    }
   ],
   "source": [
    "m.intercept_"
   ]
  },
  {
   "cell_type": "code",
   "execution_count": 8,
   "metadata": {},
   "outputs": [
    {
     "data": {
      "text/plain": [
       "array([0.0461081 , 0.18452946])"
      ]
     },
     "execution_count": 8,
     "metadata": {},
     "output_type": "execute_result"
    }
   ],
   "source": [
    "m.coef_"
   ]
  },
  {
   "cell_type": "markdown",
   "metadata": {},
   "source": [
    "# Linear Programming"
   ]
  },
  {
   "cell_type": "code",
   "execution_count": 9,
   "metadata": {},
   "outputs": [],
   "source": [
    "import pyomo.environ as pyo\n",
    "from pyomo.environ import *"
   ]
  },
  {
   "cell_type": "code",
   "execution_count": 10,
   "metadata": {},
   "outputs": [],
   "source": [
    "b0 = m.intercept_\n",
    "b1, b2 = m.coef_[0], m.coef_[1]"
   ]
  },
  {
   "cell_type": "code",
   "execution_count": 11,
   "metadata": {},
   "outputs": [
    {
     "data": {
      "text/plain": [
       "(2.981224910668315, 0.04610810197614335, 0.18452946444006524)"
      ]
     },
     "execution_count": 11,
     "metadata": {},
     "output_type": "execute_result"
    }
   ],
   "source": [
    "b0, b1, b2"
   ]
  },
  {
   "cell_type": "code",
   "execution_count": 12,
   "metadata": {},
   "outputs": [],
   "source": [
    "def LPModel():\n",
    "    m = AbstractModel()\n",
    "    \n",
    "    # mutable param\n",
    "    m.b0 = Param(initialize = b0, mutable = True)\n",
    "    m.b1 = Param(initialize = b1, mutable = True)\n",
    "    m.b2 = Param(initialize = b2, mutable = True)\n",
    "    \n",
    "    # decision variables\n",
    "    m.x1 = Var(within = NonNegativeReals, bounds = (0.7, 296.4))\n",
    "    m.x2 = Var(within = NonNegativeReals, bounds = (0, 49.6))\n",
    "    m.y1 = Var(within = NonNegativeReals)\n",
    "    m.y2 = Var(within = NonNegativeReals)\n",
    "    \n",
    "    # constraints\n",
    "    m.c1 = Constraint(expr = m.x1 + m.x2 <= 200)\n",
    "    m.c2 = Constraint(expr = m.x1 - 0.7*m.x2 <= 0)\n",
    "    m.c3 = Constraint(expr = m.x1 - 0.2*m.x2 >= 0)\n",
    "    m.c4 = Constraint(expr = m.y1 <= 8)\n",
    "    m.c5 = Constraint(expr = 2*m.y2 <= 24)\n",
    "    m.c6 = Constraint(expr = 3*m.y1 + 2*m.y2 <= 36)\n",
    "    m.c7 = Constraint(expr = -m.x1*m.b1 - m.x2*m.b2 + m.y1 + m.y2 <= m.b0)\n",
    "    \n",
    "    # objective function\n",
    "    m.obj = Objective(expr = 1000*(-0.5*m.x1 - 0.2*m.x2 + 3*m.y1 + 5*m.y2), \n",
    "                     sense = maximize)\n",
    "    \n",
    "    return m\n",
    "    "
   ]
  },
  {
   "cell_type": "code",
   "execution_count": 13,
   "metadata": {},
   "outputs": [],
   "source": [
    "# m = LPModel()\n",
    "m = LPModel().create_instance()\n",
    "solver = SolverFactory('cplex')\n",
    "result = solver.solve(m)"
   ]
  },
  {
   "cell_type": "code",
   "execution_count": 14,
   "metadata": {},
   "outputs": [
    {
     "name": "stdout",
     "output_type": "stream",
     "text": [
      "# ==========================================================\n",
      "# = Solver Results                                         =\n",
      "# ==========================================================\n",
      "# ----------------------------------------------------------\n",
      "#   Problem Information\n",
      "# ----------------------------------------------------------\n",
      "Problem: \n",
      "- Name: tmpj962xaey\n",
      "  Lower bound: 46893.836155496676\n",
      "  Upper bound: 46893.836155496676\n",
      "  Number of objectives: 1\n",
      "  Number of constraints: 8\n",
      "  Number of variables: 5\n",
      "  Number of nonzeros: 15\n",
      "  Sense: maximize\n",
      "# ----------------------------------------------------------\n",
      "#   Solver Information\n",
      "# ----------------------------------------------------------\n",
      "Solver: \n",
      "- Status: ok\n",
      "  User time: 0.0\n",
      "  Termination condition: optimal\n",
      "  Termination message: Dual simplex - Optimal\\x3a Objective = 4.6893836155e+04\n",
      "  Error rc: 0\n",
      "  Time: 0.022004127502441406\n",
      "# ----------------------------------------------------------\n",
      "#   Solution Information\n",
      "# ----------------------------------------------------------\n",
      "Solution: \n",
      "- number of solutions: 0\n",
      "  number of solutions displayed: 0\n"
     ]
    }
   ],
   "source": [
    "result.write()"
   ]
  },
  {
   "cell_type": "markdown",
   "metadata": {},
   "source": [
    "# Validate the result "
   ]
  },
  {
   "cell_type": "code",
   "execution_count": 15,
   "metadata": {},
   "outputs": [],
   "source": [
    "x = xtrain.values\n",
    "y = ytrain.values\n",
    "xt = xtest.values\n",
    "yt = ytest.values\n",
    "\n",
    "# restore the original result\n",
    "x1hat = m.x1()\n",
    "x2hat = m.x2()\n",
    "obj = m.obj()"
   ]
  },
  {
   "cell_type": "code",
   "execution_count": 16,
   "metadata": {},
   "outputs": [
    {
     "data": {
      "text/plain": [
       "(9.920000000000002, 49.6)"
      ]
     },
     "execution_count": 16,
     "metadata": {},
     "output_type": "execute_result"
    }
   ],
   "source": [
    "x1hat, x2hat"
   ]
  },
  {
   "cell_type": "markdown",
   "metadata": {},
   "source": [
    "# Calculate essential variables\n",
    "#### 1. For each data point ($x_{1i}$, $x_{2i}$,$w_i$) in the validation set:"
   ]
  },
  {
   "cell_type": "code",
   "execution_count": 17,
   "metadata": {},
   "outputs": [],
   "source": [
    "epv = [yt[i] - b0 - b1*xt[i][0] - b2*xt[i][1] for i in range(len(xtest))]"
   ]
  },
  {
   "cell_type": "markdown",
   "metadata": {},
   "source": [
    "#### 2. For each i in the validation set:"
   ]
  },
  {
   "cell_type": "code",
   "execution_count": 18,
   "metadata": {},
   "outputs": [],
   "source": [
    "wi = [b0 + b1*x1hat + b2*x2hat + epv[i] for i in range(len(xtest))]"
   ]
  },
  {
   "cell_type": "markdown",
   "metadata": {},
   "source": [
    "#### 3. For each data point ($x_{1i}$, $x_{2i}$,$w_i$) in the training set"
   ]
  },
  {
   "cell_type": "code",
   "execution_count": 19,
   "metadata": {},
   "outputs": [],
   "source": [
    "eti = [y[i] - b0 - b1*x[i][0] - b2*x[i][1] for i in range(len(xtrain))]"
   ]
  },
  {
   "cell_type": "markdown",
   "metadata": {},
   "source": [
    "### $X^2$ test and QQ plot"
   ]
  },
  {
   "cell_type": "code",
   "execution_count": null,
   "metadata": {},
   "outputs": [],
   "source": []
  },
  {
   "cell_type": "markdown",
   "metadata": {},
   "source": [
    "### 95% CI from validation set"
   ]
  },
  {
   "cell_type": "code",
   "execution_count": 20,
   "metadata": {},
   "outputs": [],
   "source": [
    "import scipy.stats"
   ]
  },
  {
   "cell_type": "code",
   "execution_count": 21,
   "metadata": {},
   "outputs": [],
   "source": [
    "profits = []\n",
    "\n",
    "for i in range(len(xtest)):   \n",
    "    # fix variables\n",
    "    m.x1.fix(x1hat)\n",
    "    m.x2.fix(x2hat)\n",
    "             \n",
    "    # update parameters\n",
    "    m.b1 = 0\n",
    "    m.b2 = 0\n",
    "    m.b0 = wi[i]\n",
    "    result = SolverFactory('cplex').solve(m)\n",
    "    profits.append(m.obj())"
   ]
  },
  {
   "cell_type": "code",
   "execution_count": 22,
   "metadata": {},
   "outputs": [],
   "source": [
    "def GetCI(arr, confident = 0.95):\n",
    "    mean = np.mean(arr)\n",
    "    se = scipy.stats.sem(1.0*np.array(arr))\n",
    "    n = len(arr)\n",
    "    h = se * scipy.stats.t.ppf((1 + confident)/2., n-1)\n",
    "    return mean ,h , mean - h, mean + h"
   ]
  },
  {
   "cell_type": "code",
   "execution_count": 23,
   "metadata": {},
   "outputs": [
    {
     "data": {
      "text/plain": [
       "(44480.37290982066, 46893.836155496676, 47120.74968876925)"
      ]
     },
     "execution_count": 23,
     "metadata": {},
     "output_type": "execute_result"
    }
   ],
   "source": [
    "mean,h ,LB, UB = GetCI(profits)\n",
    "LB, obj, UB"
   ]
  },
  {
   "cell_type": "markdown",
   "metadata": {},
   "source": [
    "### Verify the validation result by creating indepandent models"
   ]
  },
  {
   "cell_type": "code",
   "execution_count": 24,
   "metadata": {},
   "outputs": [],
   "source": [
    "def LPModel_validation(w):\n",
    "    m = ConcreteModel()\n",
    "    \n",
    "    # decision variables\n",
    "    m.y1 = Var(within = NonNegativeReals)\n",
    "    m.y2 = Var(within = NonNegativeReals)\n",
    "    \n",
    "    # constraints\n",
    "    m.c4 = Constraint(expr = m.y1 <= 8)\n",
    "    m.c5 = Constraint(expr = 2*m.y2 <= 24)\n",
    "    m.c6 = Constraint(expr = 3*m.y1 + 2*m.y2 <= 36)\n",
    "    m.c7 = Constraint(expr = m.y1 + m.y2 <= w)\n",
    "    \n",
    "    # objective function\n",
    "    m.obj = Objective(expr = 1000*(3*m.y1 + 5*m.y2), \n",
    "                     sense = maximize)\n",
    "    \n",
    "    return m"
   ]
  },
  {
   "cell_type": "code",
   "execution_count": 25,
   "metadata": {},
   "outputs": [],
   "source": [
    "profits = []\n",
    "for i in range(len(xtest)):   \n",
    "    m = LPModel_validation(wi[i])\n",
    "    result = SolverFactory('cplex').solve(m)\n",
    "    profits.append(m.obj())"
   ]
  },
  {
   "cell_type": "code",
   "execution_count": 26,
   "metadata": {},
   "outputs": [
    {
     "data": {
      "text/plain": [
       "(44480.37290982066, 46893.836155496676, 47120.74968876925)"
      ]
     },
     "execution_count": 26,
     "metadata": {},
     "output_type": "execute_result"
    }
   ],
   "source": [
    "mean ,h,_,_ = GetCI(profits)\n",
    "UB = 1000*(-0.5*x1hat - 0.2*x2hat)+ mean + h \n",
    "LB = 1000*(-0.5*x1hat - 0.2*x2hat)+ mean - h \n",
    "LB, obj, UB"
   ]
  }
 ],
 "metadata": {
  "kernelspec": {
   "display_name": "Python 3",
   "language": "python",
   "name": "python3"
  },
  "language_info": {
   "codemirror_mode": {
    "name": "ipython",
    "version": 3
   },
   "file_extension": ".py",
   "mimetype": "text/x-python",
   "name": "python",
   "nbconvert_exporter": "python",
   "pygments_lexer": "ipython3",
   "version": "3.7.4"
  }
 },
 "nbformat": 4,
 "nbformat_minor": 2
}
